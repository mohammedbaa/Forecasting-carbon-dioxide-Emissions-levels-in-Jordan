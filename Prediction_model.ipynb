{
 "cells": [
  {
   "cell_type": "markdown",
   "id": "a0855ccf",
   "metadata": {},
   "source": [
    "# Import the libraries:"
   ]
  },
  {
   "cell_type": "code",
   "execution_count": 1,
   "id": "094e8788",
   "metadata": {},
   "outputs": [],
   "source": [
    "import pandas as pd\n",
    "import numpy as np\n",
    "import pickle\n",
    "import statsmodels.api as sm\n",
    "from sklearn.feature_selection import RFE\n",
    "from sklearn.linear_model import LinearRegression \n",
    "from sklearn.model_selection import train_test_split\n",
    "from sklearn.preprocessing import PolynomialFeatures\n",
    "import sklearn.metrics as ms\n",
    "from sklearn.tree import DecisionTreeRegressor\n",
    "from sklearn.model_selection import GridSearchCV\n",
    "import keras\n",
    "from keras.layers import Dense, LSTM\n",
    "from keras.models import Sequential\n",
    "from sklearn.preprocessing import OneHotEncoder\n",
    "from sklearn.preprocessing import StandardScaler\n",
    "from statsmodels.tsa.arima.model import ARIMA\n",
    "import matplotlib.pyplot as plt\n",
    "from statsmodels.tsa.exponential_smoothing.ets import ETSModel\n",
    "from sklearn.impute import SimpleImputer\n",
    "from pandas.tseries.offsets import DateOffset\n",
    "from sklearn.pipeline import Pipeline\n",
    "import warnings\n",
    "warnings.filterwarnings('ignore')"
   ]
  },
  {
   "cell_type": "markdown",
   "id": "78a18a13",
   "metadata": {},
   "source": [
    "# Read files:"
   ]
  },
  {
   "cell_type": "code",
   "execution_count": 2,
   "id": "f788a630",
   "metadata": {},
   "outputs": [],
   "source": [
    "carbon = pd.read_csv(\"Data/jordan_co2_emissions.csv\")\n",
    "sector = pd.read_csv(\"Data/Sectors.csv\",usecols=['Year','Waste','Transport','Electricity and heat','Industry'])\n",
    "mergedata = pd.merge(carbon, sector, on=\"Year\")"
   ]
  },
  {
   "cell_type": "markdown",
   "id": "c8c0568d",
   "metadata": {},
   "source": [
    "# Files Explaination:"
   ]
  },
  {
   "cell_type": "markdown",
   "id": "2a8111de",
   "metadata": {},
   "source": [
    "In the study we have four files, each file contains number of columns that  directly or indirectly impact the results of the study\n",
    "these files are mentioned below:\n",
    "1. \"jordan_temp_annual.csv\": Contains the average temperature in Jordan from 1901-2020, and the temperature in each city.\n",
    "2. \"jordan_co2_emissions.csv\": This file includes the comulative CO2 emissions in Jordan from 1950-2019\n",
    "3. \"export.csv\": contains the population in Jordan from 1990-2019.\n",
    "4. \"sector.csv\": contains the co2 emission from each sector in Jordan from 1990-2019."
   ]
  },
  {
   "cell_type": "markdown",
   "id": "28f1df2e",
   "metadata": {},
   "source": [
    "# Feature extraction:"
   ]
  },
  {
   "cell_type": "code",
   "execution_count": 3,
   "id": "9e0b0c27",
   "metadata": {},
   "outputs": [],
   "source": [
    "class FeatureExtraction:\n",
    "    \n",
    "    def __init__(self, df, w=[2, 3, 4, 5]):\n",
    "        self.df = df\n",
    "        self.w = w\n",
    "    def feature_extracted(self, col):\n",
    "        self.df['%s_year_diff' % col] = self.df[col].diff()\n",
    "        self.df['%s_year_diff' % col] = self.df['%s_year_diff' % col].fillna(self.df[col].iloc[0])\n",
    "        for i in self.w:\n",
    "            self.df['%s_%syear_avg' % (col, i)] = self.df['%s_year_diff' % col].rolling(i).mean()\n",
    "        return self.df\n",
    "\n",
    "    def Apply_feature(self, df):\n",
    "        col = [x for x in df.columns if x != 'Year']\n",
    "        for i in col:\n",
    "            df = self.feature_extracted(i)\n",
    "        return df"
   ]
  },
  {
   "cell_type": "markdown",
   "id": "8c4511b7",
   "metadata": {},
   "source": [
    "# Data pre-processin:"
   ]
  },
  {
   "cell_type": "code",
   "execution_count": 4,
   "id": "79cec1c7",
   "metadata": {},
   "outputs": [],
   "source": [
    "class cleaning(FeatureExtraction):\n",
    "    \n",
    "    def impute_missing_values(self):\n",
    "     # Create a SimpleImputer instance\n",
    "        imputer = SimpleImputer(missing_values=np.nan,strategy='mean')\n",
    "    \n",
    "     # Select the columns\n",
    "        columns = self.df.columns\n",
    "    \n",
    "    # Fit and transform the data\n",
    "        self.df[columns] = imputer.fit_transform(self.df[columns])\n",
    "        self.df.drop(self.df.iloc[:,1:6],axis=1,inplace=True)\n",
    "        return self.df"
   ]
  },
  {
   "cell_type": "markdown",
   "id": "b9a62977",
   "metadata": {},
   "source": [
    "# Apply the model:"
   ]
  },
  {
   "cell_type": "code",
   "execution_count": 5,
   "id": "14fedc79",
   "metadata": {},
   "outputs": [],
   "source": [
    "feature_extractor = FeatureExtraction(mergedata)\n",
    "dataset = feature_extractor.Apply_feature(mergedata)\n",
    "cleaner = cleaning(dataset)\n",
    "dataset = cleaner.impute_missing_values()"
   ]
  },
  {
   "cell_type": "markdown",
   "id": "a5001e64",
   "metadata": {},
   "source": [
    "# Split the data into label(y) and data(X):"
   ]
  },
  {
   "cell_type": "code",
   "execution_count": 6,
   "id": "98894b96",
   "metadata": {},
   "outputs": [],
   "source": [
    "Data = dataset.loc[:, dataset.columns != 'CO2 Emissions_year_diff']\n",
    "label = dataset['CO2 Emissions_year_diff']"
   ]
  },
  {
   "cell_type": "code",
   "execution_count": 7,
   "id": "8a946591",
   "metadata": {},
   "outputs": [
    {
     "data": {
      "text/html": [
       "<div>\n",
       "<style scoped>\n",
       "    .dataframe tbody tr th:only-of-type {\n",
       "        vertical-align: middle;\n",
       "    }\n",
       "\n",
       "    .dataframe tbody tr th {\n",
       "        vertical-align: top;\n",
       "    }\n",
       "\n",
       "    .dataframe thead th {\n",
       "        text-align: right;\n",
       "    }\n",
       "</style>\n",
       "<table border=\"1\" class=\"dataframe\">\n",
       "  <thead>\n",
       "    <tr style=\"text-align: right;\">\n",
       "      <th></th>\n",
       "      <th>Year</th>\n",
       "      <th>CO2 Emissions_2year_avg</th>\n",
       "      <th>CO2 Emissions_3year_avg</th>\n",
       "      <th>CO2 Emissions_4year_avg</th>\n",
       "      <th>CO2 Emissions_5year_avg</th>\n",
       "      <th>Waste_year_diff</th>\n",
       "      <th>Waste_2year_avg</th>\n",
       "      <th>Waste_3year_avg</th>\n",
       "      <th>Waste_4year_avg</th>\n",
       "      <th>Waste_5year_avg</th>\n",
       "      <th>...</th>\n",
       "      <th>Transport_year_diff</th>\n",
       "      <th>Transport_2year_avg</th>\n",
       "      <th>Transport_3year_avg</th>\n",
       "      <th>Transport_4year_avg</th>\n",
       "      <th>Transport_5year_avg</th>\n",
       "      <th>Electricity and heat_year_diff</th>\n",
       "      <th>Electricity and heat_2year_avg</th>\n",
       "      <th>Electricity and heat_3year_avg</th>\n",
       "      <th>Electricity and heat_4year_avg</th>\n",
       "      <th>Electricity and heat_5year_avg</th>\n",
       "    </tr>\n",
       "  </thead>\n",
       "  <tbody>\n",
       "    <tr>\n",
       "      <th>0</th>\n",
       "      <td>1990.0</td>\n",
       "      <td>2.061716e+07</td>\n",
       "      <td>2.000729e+07</td>\n",
       "      <td>1.970263e+07</td>\n",
       "      <td>1.953104e+07</td>\n",
       "      <td>7860000.134</td>\n",
       "      <td>5.948276e+04</td>\n",
       "      <td>7.142850e+03</td>\n",
       "      <td>-2.601852e+04</td>\n",
       "      <td>-5.230769e+04</td>\n",
       "      <td>...</td>\n",
       "      <td>2799999.952</td>\n",
       "      <td>2.736207e+05</td>\n",
       "      <td>269523.807940</td>\n",
       "      <td>263055.556352</td>\n",
       "      <td>258615.383738</td>\n",
       "      <td>3450000.048</td>\n",
       "      <td>2.624138e+05</td>\n",
       "      <td>2.610714e+05</td>\n",
       "      <td>2.569445e+05</td>\n",
       "      <td>268846.161577</td>\n",
       "    </tr>\n",
       "    <tr>\n",
       "      <th>1</th>\n",
       "      <td>1991.0</td>\n",
       "      <td>6.999668e+07</td>\n",
       "      <td>2.000729e+07</td>\n",
       "      <td>1.970263e+07</td>\n",
       "      <td>1.953104e+07</td>\n",
       "      <td>400000.095</td>\n",
       "      <td>4.130000e+06</td>\n",
       "      <td>7.142850e+03</td>\n",
       "      <td>-2.601852e+04</td>\n",
       "      <td>-5.230769e+04</td>\n",
       "      <td>...</td>\n",
       "      <td>-210000.038</td>\n",
       "      <td>1.295000e+06</td>\n",
       "      <td>269523.807940</td>\n",
       "      <td>263055.556352</td>\n",
       "      <td>258615.383738</td>\n",
       "      <td>359999.895</td>\n",
       "      <td>1.905000e+06</td>\n",
       "      <td>2.610714e+05</td>\n",
       "      <td>2.569445e+05</td>\n",
       "      <td>268846.161577</td>\n",
       "    </tr>\n",
       "    <tr>\n",
       "      <th>2</th>\n",
       "      <td>1992.0</td>\n",
       "      <td>1.094406e+07</td>\n",
       "      <td>5.065919e+07</td>\n",
       "      <td>1.970263e+07</td>\n",
       "      <td>1.953104e+07</td>\n",
       "      <td>399999.618</td>\n",
       "      <td>3.999999e+05</td>\n",
       "      <td>2.886667e+06</td>\n",
       "      <td>-2.601852e+04</td>\n",
       "      <td>-5.230769e+04</td>\n",
       "      <td>...</td>\n",
       "      <td>150000.096</td>\n",
       "      <td>-2.999997e+04</td>\n",
       "      <td>913333.336667</td>\n",
       "      <td>263055.556352</td>\n",
       "      <td>258615.383738</td>\n",
       "      <td>619999.885</td>\n",
       "      <td>4.899999e+05</td>\n",
       "      <td>1.476667e+06</td>\n",
       "      <td>2.569445e+05</td>\n",
       "      <td>268846.161577</td>\n",
       "    </tr>\n",
       "    <tr>\n",
       "      <th>3</th>\n",
       "      <td>1993.0</td>\n",
       "      <td>1.187924e+07</td>\n",
       "      <td>1.122080e+07</td>\n",
       "      <td>4.093796e+07</td>\n",
       "      <td>1.953104e+07</td>\n",
       "      <td>409999.848</td>\n",
       "      <td>4.049997e+05</td>\n",
       "      <td>4.033332e+05</td>\n",
       "      <td>2.267500e+06</td>\n",
       "      <td>-5.230769e+04</td>\n",
       "      <td>...</td>\n",
       "      <td>79999.923</td>\n",
       "      <td>1.150000e+05</td>\n",
       "      <td>6666.660333</td>\n",
       "      <td>704999.983250</td>\n",
       "      <td>258615.383738</td>\n",
       "      <td>140000.344</td>\n",
       "      <td>3.800001e+05</td>\n",
       "      <td>3.733334e+05</td>\n",
       "      <td>1.142500e+06</td>\n",
       "      <td>268846.161577</td>\n",
       "    </tr>\n",
       "    <tr>\n",
       "      <th>4</th>\n",
       "      <td>1994.0</td>\n",
       "      <td>1.251193e+07</td>\n",
       "      <td>1.233602e+07</td>\n",
       "      <td>1.172799e+07</td>\n",
       "      <td>3.540028e+07</td>\n",
       "      <td>400000.572</td>\n",
       "      <td>4.050002e+05</td>\n",
       "      <td>4.033333e+05</td>\n",
       "      <td>4.025000e+05</td>\n",
       "      <td>1.894000e+06</td>\n",
       "      <td>...</td>\n",
       "      <td>0.000</td>\n",
       "      <td>3.999996e+04</td>\n",
       "      <td>76666.673000</td>\n",
       "      <td>4999.995250</td>\n",
       "      <td>563999.986600</td>\n",
       "      <td>119999.885</td>\n",
       "      <td>1.300001e+05</td>\n",
       "      <td>2.933334e+05</td>\n",
       "      <td>3.100000e+05</td>\n",
       "      <td>938000.011400</td>\n",
       "    </tr>\n",
       "  </tbody>\n",
       "</table>\n",
       "<p>5 rows × 25 columns</p>\n",
       "</div>"
      ],
      "text/plain": [
       "     Year  CO2 Emissions_2year_avg  CO2 Emissions_3year_avg  \\\n",
       "0  1990.0             2.061716e+07             2.000729e+07   \n",
       "1  1991.0             6.999668e+07             2.000729e+07   \n",
       "2  1992.0             1.094406e+07             5.065919e+07   \n",
       "3  1993.0             1.187924e+07             1.122080e+07   \n",
       "4  1994.0             1.251193e+07             1.233602e+07   \n",
       "\n",
       "   CO2 Emissions_4year_avg  CO2 Emissions_5year_avg  Waste_year_diff  \\\n",
       "0             1.970263e+07             1.953104e+07      7860000.134   \n",
       "1             1.970263e+07             1.953104e+07       400000.095   \n",
       "2             1.970263e+07             1.953104e+07       399999.618   \n",
       "3             4.093796e+07             1.953104e+07       409999.848   \n",
       "4             1.172799e+07             3.540028e+07       400000.572   \n",
       "\n",
       "   Waste_2year_avg  Waste_3year_avg  Waste_4year_avg  Waste_5year_avg  ...  \\\n",
       "0     5.948276e+04     7.142850e+03    -2.601852e+04    -5.230769e+04  ...   \n",
       "1     4.130000e+06     7.142850e+03    -2.601852e+04    -5.230769e+04  ...   \n",
       "2     3.999999e+05     2.886667e+06    -2.601852e+04    -5.230769e+04  ...   \n",
       "3     4.049997e+05     4.033332e+05     2.267500e+06    -5.230769e+04  ...   \n",
       "4     4.050002e+05     4.033333e+05     4.025000e+05     1.894000e+06  ...   \n",
       "\n",
       "   Transport_year_diff  Transport_2year_avg  Transport_3year_avg  \\\n",
       "0          2799999.952         2.736207e+05        269523.807940   \n",
       "1          -210000.038         1.295000e+06        269523.807940   \n",
       "2           150000.096        -2.999997e+04        913333.336667   \n",
       "3            79999.923         1.150000e+05          6666.660333   \n",
       "4                0.000         3.999996e+04         76666.673000   \n",
       "\n",
       "   Transport_4year_avg  Transport_5year_avg  Electricity and heat_year_diff  \\\n",
       "0        263055.556352        258615.383738                     3450000.048   \n",
       "1        263055.556352        258615.383738                      359999.895   \n",
       "2        263055.556352        258615.383738                      619999.885   \n",
       "3        704999.983250        258615.383738                      140000.344   \n",
       "4          4999.995250        563999.986600                      119999.885   \n",
       "\n",
       "   Electricity and heat_2year_avg  Electricity and heat_3year_avg  \\\n",
       "0                    2.624138e+05                    2.610714e+05   \n",
       "1                    1.905000e+06                    2.610714e+05   \n",
       "2                    4.899999e+05                    1.476667e+06   \n",
       "3                    3.800001e+05                    3.733334e+05   \n",
       "4                    1.300001e+05                    2.933334e+05   \n",
       "\n",
       "   Electricity and heat_4year_avg  Electricity and heat_5year_avg  \n",
       "0                    2.569445e+05                   268846.161577  \n",
       "1                    2.569445e+05                   268846.161577  \n",
       "2                    2.569445e+05                   268846.161577  \n",
       "3                    1.142500e+06                   268846.161577  \n",
       "4                    3.100000e+05                   938000.011400  \n",
       "\n",
       "[5 rows x 25 columns]"
      ]
     },
     "execution_count": 7,
     "metadata": {},
     "output_type": "execute_result"
    }
   ],
   "source": [
    "Data.head()"
   ]
  },
  {
   "cell_type": "markdown",
   "id": "da3283b3",
   "metadata": {},
   "source": [
    "# Feature selection: "
   ]
  },
  {
   "cell_type": "markdown",
   "id": "94963768",
   "metadata": {},
   "source": [
    "### Using backward_elemination:"
   ]
  },
  {
   "cell_type": "code",
   "execution_count": 8,
   "id": "aed555e0",
   "metadata": {},
   "outputs": [],
   "source": [
    "def backward_elemination(data, target, significance_level=0.06):\n",
    "    features = data.columns.tolist()\n",
    "    while(len(features)>0):\n",
    "        features_with_constant = sm.add_constant(data[features])\n",
    "        model = sm.OLS(target, features_with_constant).fit()\n",
    "        p_values = model.pvalues[1:]\n",
    "        max_p_value = p_values.max()\n",
    "        if(max_p_value >= significance_level):\n",
    "            excluded_feature = p_values.idxmax()\n",
    "            features.remove(excluded_feature)\n",
    "        else:\n",
    "            break\n",
    "    return (model.summary(),features)\n",
    "\n",
    "ols_summary,best_features=(backward_elemination(Data, label))"
   ]
  },
  {
   "cell_type": "markdown",
   "id": "77c7abdd",
   "metadata": {},
   "source": [
    "### Using forward_selection:"
   ]
  },
  {
   "cell_type": "code",
   "execution_count": 9,
   "id": "995639e0",
   "metadata": {},
   "outputs": [],
   "source": [
    "# Greedy feuter selection  and model selection\n",
    "def forward_selection(data,target,significance_level=0.05):\n",
    "    initial_features=data.columns.tolist()\n",
    "    best_features2=[]\n",
    "    while (len(initial_features)>0):\n",
    "        remaining_features=list(set(initial_features)-set(best_features2))\n",
    "        new_pval=pd.Series(index=remaining_features)\n",
    "        for new_column in remaining_features:\n",
    "            model=sm.OLS(target,sm.add_constant(data[best_features2+[new_column]])).fit()\n",
    "            new_pval[new_column]=model.pvalues[new_column]\n",
    "        min_p_value=new_pval.min()\n",
    "        if (min_p_value<significance_level):\n",
    "            best_features2.append(new_pval.idxmin())\n",
    "        else:\n",
    "            break\n",
    "    return best_features2     \n",
    "\n",
    "best_features2=forward_selection(Data, label)"
   ]
  },
  {
   "cell_type": "markdown",
   "id": "d817eaf6",
   "metadata": {},
   "source": [
    "# Prepare the machine learning mode:"
   ]
  },
  {
   "cell_type": "code",
   "execution_count": 10,
   "id": "2fcae5d1",
   "metadata": {},
   "outputs": [
    {
     "data": {
      "text/plain": [
       "['Waste_year_diff', 'Waste_2year_avg', 'CO2 Emissions_2year_avg']"
      ]
     },
     "execution_count": 10,
     "metadata": {},
     "output_type": "execute_result"
    }
   ],
   "source": [
    "best_features2"
   ]
  },
  {
   "cell_type": "markdown",
   "id": "7d8b9eaf",
   "metadata": {},
   "source": [
    "### Reset the X,y values based on the feature selection models:"
   ]
  },
  {
   "cell_type": "code",
   "execution_count": 11,
   "id": "9a1056eb",
   "metadata": {},
   "outputs": [],
   "source": [
    "X=dataset.loc[:,best_features]\n",
    "X2=dataset.loc[:,best_features2]\n",
    "y= dataset['CO2 Emissions_year_diff'].shift(-1)"
   ]
  },
  {
   "cell_type": "markdown",
   "id": "8fd79351",
   "metadata": {},
   "source": [
    "### Remove the null value after shift:"
   ]
  },
  {
   "cell_type": "code",
   "execution_count": 12,
   "id": "a56d0c76",
   "metadata": {},
   "outputs": [],
   "source": [
    "# Remove the last row because the shift \n",
    "X.drop(X.tail(1).index,inplace=True)\n",
    "X2.drop(X.tail(1).index,inplace=True)\n",
    "y.drop(y.tail(1).index,inplace=True)"
   ]
  },
  {
   "cell_type": "markdown",
   "id": "0be54051",
   "metadata": {},
   "source": [
    "# Apply the machine learning model:"
   ]
  },
  {
   "cell_type": "markdown",
   "id": "1f6d1d95",
   "metadata": {},
   "source": [
    "## DTreeRegressor:"
   ]
  },
  {
   "cell_type": "markdown",
   "id": "460f012d",
   "metadata": {},
   "source": [
    "### Using the backward elemination:"
   ]
  },
  {
   "cell_type": "code",
   "execution_count": 13,
   "id": "a8a43217",
   "metadata": {},
   "outputs": [
    {
     "name": "stdout",
     "output_type": "stream",
     "text": [
      "Best parameters: {'max_depth': 4, 'min_samples_leaf': 2, 'min_samples_split': 6}\n"
     ]
    }
   ],
   "source": [
    "## DTreeRegression  \n",
    "X_train,X_test,y_train,y_test=train_test_split(X ,y, test_size=0.2 ,random_state=0)\n",
    "\n",
    "DTR=(DecisionTreeRegressor(random_state=0))\n",
    "param_grid = {'max_depth': [2, 4, 6, 8, 10],\n",
    "              'min_samples_split': [2, 4, 6, 8, 10],\n",
    "              'min_samples_leaf': [1, 2, 4]}\n",
    "grid_search = GridSearchCV(estimator=DTR, param_grid=param_grid, cv=5)\n",
    "grid_search.fit(X_train, y_train)\n",
    "print(f'Best parameters: {grid_search.best_params_}')"
   ]
  },
  {
   "cell_type": "code",
   "execution_count": 14,
   "id": "2222fc8a",
   "metadata": {},
   "outputs": [
    {
     "name": "stdout",
     "output_type": "stream",
     "text": [
      "The Accurecy of DecisionTreeRegressor = -0.4656449819510433\n"
     ]
    }
   ],
   "source": [
    "dt_optimal = DecisionTreeRegressor(**grid_search.best_params_,random_state=0)\n",
    "dt_optimal.fit(X_train, y_train)\n",
    "y_pred = dt_optimal.predict(X_test)\n",
    "print(\"The Accurecy of DecisionTreeRegressor = %s\" % ms.r2_score(y_test,y_pred))"
   ]
  },
  {
   "cell_type": "markdown",
   "id": "068d801a",
   "metadata": {},
   "source": [
    "### Using the forward selection:"
   ]
  },
  {
   "cell_type": "code",
   "execution_count": 15,
   "id": "0c9ff745",
   "metadata": {},
   "outputs": [
    {
     "name": "stdout",
     "output_type": "stream",
     "text": [
      "Best parameters: {'max_depth': 4, 'min_samples_leaf': 1, 'min_samples_split': 8}\n"
     ]
    }
   ],
   "source": [
    "## DTreeRegression  \n",
    "X_train,X_test,y_train,y_test=train_test_split(X2 ,y, test_size=0.2 ,random_state=0)\n",
    "\n",
    "DTR=(DecisionTreeRegressor(random_state=0))\n",
    "param_grid = {'max_depth': [2, 4, 6, 8, 10],\n",
    "              'min_samples_split': [2, 4, 6, 8, 10],\n",
    "              'min_samples_leaf': [1, 2, 4]}\n",
    "grid_search = GridSearchCV(estimator=DTR, param_grid=param_grid, cv=5)\n",
    "grid_search.fit(X_train, y_train)\n",
    "print(f'Best parameters: {grid_search.best_params_}')"
   ]
  },
  {
   "cell_type": "code",
   "execution_count": 16,
   "id": "e3ca9fad",
   "metadata": {},
   "outputs": [
    {
     "name": "stdout",
     "output_type": "stream",
     "text": [
      "The Accurecy of DecisionTreeRegressor = 0.8673994288563884\n"
     ]
    }
   ],
   "source": [
    "dt_optimal = DecisionTreeRegressor(**grid_search.best_params_,random_state=0)\n",
    "dt_optimal.fit(X_train, y_train)\n",
    "y_pred = dt_optimal.predict(X_test)\n",
    "print(\"The Accurecy of DecisionTreeRegressor = %s\" % ms.r2_score(y_test,y_pred))"
   ]
  },
  {
   "cell_type": "code",
   "execution_count": 17,
   "id": "8c6599ed",
   "metadata": {},
   "outputs": [],
   "source": [
    "pickle.dump(dt_optimal, open('dtreeOptimal.pkl','wb'))"
   ]
  },
  {
   "cell_type": "markdown",
   "id": "1150369a",
   "metadata": {},
   "source": [
    "As seen , the results of the forward selection is much better than the backward elemination."
   ]
  },
  {
   "cell_type": "markdown",
   "id": "e22fb55e",
   "metadata": {},
   "source": [
    "## Linear Regression model with Rfe Feature selection with 5 n_features_to_select"
   ]
  },
  {
   "cell_type": "code",
   "execution_count": 18,
   "id": "0a1b6830",
   "metadata": {},
   "outputs": [],
   "source": [
    "data = dataset.loc[:, dataset.columns != 'CO2 Emissions_year_diff']\n",
    "label = dataset['CO2 Emissions_year_diff'].shift(-1)"
   ]
  },
  {
   "cell_type": "code",
   "execution_count": 19,
   "id": "ca824102",
   "metadata": {},
   "outputs": [],
   "source": [
    "data = dataset.loc[:, dataset.columns != 'CO2 Emissions_year_diff']\n",
    "label = dataset['CO2 Emissions_year_diff'].shift(-1)\n",
    "\n",
    "data.drop(data.tail(1).index,inplace=True)\n",
    "label.drop(label.tail(1).index,inplace=True)\n",
    "\n",
    "X_train,X_test,y_train,y_test=train_test_split(data ,label, test_size=0.2 ,random_state=0)\n",
    "# using scaler to make the value almost close to each other \n",
    "num_cols=list(data.columns)\n",
    "scaler=StandardScaler().fit(X_train[num_cols])\n",
    "X_train[num_cols]=scaler.transform(X_train[num_cols])\n",
    "X_test[num_cols]=scaler.transform(X_test[num_cols])"
   ]
  },
  {
   "cell_type": "code",
   "execution_count": 20,
   "id": "77a4c644",
   "metadata": {},
   "outputs": [
    {
     "data": {
      "text/plain": [
       "0.5186575871519886"
      ]
     },
     "execution_count": 20,
     "metadata": {},
     "output_type": "execute_result"
    }
   ],
   "source": [
    "lr=LinearRegression()\n",
    "lr.fit(X_train,y_train)\n",
    "y_pred=lr.predict(X_test)\n",
    "ms.r2_score(y_test,y_pred)"
   ]
  },
  {
   "cell_type": "code",
   "execution_count": 21,
   "id": "39c56459",
   "metadata": {},
   "outputs": [],
   "source": [
    "lr=LinearRegression()\n",
    "rfe=RFE(lr,n_features_to_select=5)\n",
    "rfe.fit(X_train,y_train)\n",
    "X_train=rfe.transform(X_train)\n",
    "X_test=rfe.transform(X_test)"
   ]
  },
  {
   "cell_type": "code",
   "execution_count": 22,
   "id": "7f3df4b0",
   "metadata": {},
   "outputs": [],
   "source": [
    "selected_features = rfe.support_"
   ]
  },
  {
   "cell_type": "code",
   "execution_count": 23,
   "id": "72daab87",
   "metadata": {},
   "outputs": [
    {
     "data": {
      "text/plain": [
       "Index(['Year', 'CO2 Emissions_2year_avg', 'CO2 Emissions_4year_avg',\n",
       "       'Waste_2year_avg', 'Waste_4year_avg'],\n",
       "      dtype='object')"
      ]
     },
     "execution_count": 23,
     "metadata": {},
     "output_type": "execute_result"
    }
   ],
   "source": [
    "column_names = data.columns\n",
    "included_columns = column_names[selected_features]\n",
    "included_columns"
   ]
  },
  {
   "cell_type": "code",
   "execution_count": 24,
   "id": "64ca973e",
   "metadata": {},
   "outputs": [
    {
     "data": {
      "text/plain": [
       "0.9594293502937155"
      ]
     },
     "execution_count": 24,
     "metadata": {},
     "output_type": "execute_result"
    }
   ],
   "source": [
    "lr=LinearRegression()\n",
    "lr.fit(X_train,y_train)\n",
    "y_pred=lr.predict(X_test)\n",
    "ms.r2_score(y_test,y_pred)"
   ]
  },
  {
   "cell_type": "markdown",
   "id": "076e1849",
   "metadata": {},
   "source": [
    "### pickle the Linear Regression model"
   ]
  },
  {
   "cell_type": "code",
   "execution_count": 25,
   "id": "9c0acc12",
   "metadata": {},
   "outputs": [],
   "source": [
    "pickle.dump(lr, open('lr.pkl','wb'))"
   ]
  },
  {
   "cell_type": "markdown",
   "id": "4230ee87",
   "metadata": {},
   "source": [
    "## Arima Time serious model:"
   ]
  },
  {
   "cell_type": "code",
   "execution_count": 26,
   "id": "562b993c",
   "metadata": {},
   "outputs": [],
   "source": [
    "dateparse = lambda x: pd.to_datetime(x, format='%Y', errors = 'coerce')\n",
    "df = pd.read_csv(\"Data/jordan_co2_emissions.csv\", parse_dates=['Year'], index_col='Year', date_parser=dateparse)\n"
   ]
  },
  {
   "cell_type": "code",
   "execution_count": 27,
   "id": "a45e31f8",
   "metadata": {},
   "outputs": [],
   "source": [
    "carbonemition = df['CO2 Emissions']\n",
    "carbonperyear = [carbonemition[0]]\n",
    "for i in range(1,len(carbonemition)):\n",
    "    x = carbonemition[i] - carbonemition[i-1]\n",
    "    carbonperyear.append(x)\n",
    "\n",
    "\n",
    "df['CO2 emission per year']=carbonperyear  # this step to add new col for dataset"
   ]
  },
  {
   "cell_type": "code",
   "execution_count": 28,
   "id": "332124ad",
   "metadata": {},
   "outputs": [],
   "source": [
    "df.drop('CO2 Emissions',axis=1,inplace=True)"
   ]
  },
  {
   "cell_type": "code",
   "execution_count": 29,
   "id": "31838c57",
   "metadata": {},
   "outputs": [
    {
     "data": {
      "text/html": [
       "<div>\n",
       "<style scoped>\n",
       "    .dataframe tbody tr th:only-of-type {\n",
       "        vertical-align: middle;\n",
       "    }\n",
       "\n",
       "    .dataframe tbody tr th {\n",
       "        vertical-align: top;\n",
       "    }\n",
       "\n",
       "    .dataframe thead th {\n",
       "        text-align: right;\n",
       "    }\n",
       "</style>\n",
       "<table border=\"1\" class=\"dataframe\">\n",
       "  <thead>\n",
       "    <tr style=\"text-align: right;\">\n",
       "      <th></th>\n",
       "      <th>CO2 emission per year</th>\n",
       "    </tr>\n",
       "    <tr>\n",
       "      <th>Year</th>\n",
       "      <th></th>\n",
       "    </tr>\n",
       "  </thead>\n",
       "  <tbody>\n",
       "    <tr>\n",
       "      <th>1950-01-01</th>\n",
       "      <td>172208.0</td>\n",
       "    </tr>\n",
       "    <tr>\n",
       "      <th>1951-01-01</th>\n",
       "      <td>161216.0</td>\n",
       "    </tr>\n",
       "    <tr>\n",
       "      <th>1952-01-01</th>\n",
       "      <td>194192.0</td>\n",
       "    </tr>\n",
       "    <tr>\n",
       "      <th>1953-01-01</th>\n",
       "      <td>212512.0</td>\n",
       "    </tr>\n",
       "    <tr>\n",
       "      <th>1954-01-01</th>\n",
       "      <td>252549.0</td>\n",
       "    </tr>\n",
       "    <tr>\n",
       "      <th>...</th>\n",
       "      <td>...</td>\n",
       "    </tr>\n",
       "    <tr>\n",
       "      <th>2016-01-01</th>\n",
       "      <td>24345622.0</td>\n",
       "    </tr>\n",
       "    <tr>\n",
       "      <th>2017-01-01</th>\n",
       "      <td>25561278.0</td>\n",
       "    </tr>\n",
       "    <tr>\n",
       "      <th>2018-01-01</th>\n",
       "      <td>25259630.0</td>\n",
       "    </tr>\n",
       "    <tr>\n",
       "      <th>2019-01-01</th>\n",
       "      <td>25744983.0</td>\n",
       "    </tr>\n",
       "    <tr>\n",
       "      <th>2020-01-01</th>\n",
       "      <td>25487430.0</td>\n",
       "    </tr>\n",
       "  </tbody>\n",
       "</table>\n",
       "<p>71 rows × 1 columns</p>\n",
       "</div>"
      ],
      "text/plain": [
       "            CO2 emission per year\n",
       "Year                             \n",
       "1950-01-01               172208.0\n",
       "1951-01-01               161216.0\n",
       "1952-01-01               194192.0\n",
       "1953-01-01               212512.0\n",
       "1954-01-01               252549.0\n",
       "...                           ...\n",
       "2016-01-01             24345622.0\n",
       "2017-01-01             25561278.0\n",
       "2018-01-01             25259630.0\n",
       "2019-01-01             25744983.0\n",
       "2020-01-01             25487430.0\n",
       "\n",
       "[71 rows x 1 columns]"
      ]
     },
     "execution_count": 29,
     "metadata": {},
     "output_type": "execute_result"
    }
   ],
   "source": [
    "df"
   ]
  },
  {
   "cell_type": "code",
   "execution_count": 30,
   "id": "56b5e406",
   "metadata": {},
   "outputs": [],
   "source": [
    "df.to_csv('updatedco2.csv',index=True)"
   ]
  },
  {
   "cell_type": "markdown",
   "id": "ae750ed2",
   "metadata": {},
   "source": [
    "### Final Model\n",
    "we have selected the 0,1,2"
   ]
  },
  {
   "cell_type": "code",
   "execution_count": 31,
   "id": "585f6877",
   "metadata": {},
   "outputs": [],
   "source": [
    "z = round(len(df['CO2 emission per year'])*0.8)\n",
    "y_train = df['CO2 emission per year'].iloc[:z]\n",
    "y_test = df['CO2 emission per year'].iloc[z:]"
   ]
  },
  {
   "cell_type": "code",
   "execution_count": 32,
   "id": "20071172",
   "metadata": {},
   "outputs": [
    {
     "data": {
      "text/html": [
       "<table class=\"simpletable\">\n",
       "<caption>SARIMAX Results</caption>\n",
       "<tr>\n",
       "  <th>Dep. Variable:</th>   <td>CO2 emission per year</td> <th>  No. Observations:  </th>    <td>57</td>   \n",
       "</tr>\n",
       "<tr>\n",
       "  <th>Model:</th>              <td>ARIMA(3, 1, 4)</td>     <th>  Log Likelihood     </th> <td>-808.870</td>\n",
       "</tr>\n",
       "<tr>\n",
       "  <th>Date:</th>              <td>Sat, 25 Feb 2023</td>    <th>  AIC                </th> <td>1633.740</td>\n",
       "</tr>\n",
       "<tr>\n",
       "  <th>Time:</th>                  <td>03:00:35</td>        <th>  BIC                </th> <td>1649.943</td>\n",
       "</tr>\n",
       "<tr>\n",
       "  <th>Sample:</th>               <td>01-01-1950</td>       <th>  HQIC               </th> <td>1640.022</td>\n",
       "</tr>\n",
       "<tr>\n",
       "  <th></th>                     <td>- 01-01-2006</td>      <th>                     </th>     <td> </td>   \n",
       "</tr>\n",
       "<tr>\n",
       "  <th>Covariance Type:</th>          <td>opg</td>          <th>                     </th>     <td> </td>   \n",
       "</tr>\n",
       "</table>\n",
       "<table class=\"simpletable\">\n",
       "<tr>\n",
       "     <td></td>       <th>coef</th>     <th>std err</th>      <th>z</th>      <th>P>|z|</th>  <th>[0.025</th>    <th>0.975]</th>  \n",
       "</tr>\n",
       "<tr>\n",
       "  <th>ar.L1</th>  <td>    0.5756</td> <td>    1.291</td> <td>    0.446</td> <td> 0.656</td> <td>   -1.955</td> <td>    3.106</td>\n",
       "</tr>\n",
       "<tr>\n",
       "  <th>ar.L2</th>  <td>    0.8607</td> <td>    1.540</td> <td>    0.559</td> <td> 0.576</td> <td>   -2.157</td> <td>    3.878</td>\n",
       "</tr>\n",
       "<tr>\n",
       "  <th>ar.L3</th>  <td>   -0.4401</td> <td>    0.490</td> <td>   -0.898</td> <td> 0.369</td> <td>   -1.401</td> <td>    0.521</td>\n",
       "</tr>\n",
       "<tr>\n",
       "  <th>ma.L1</th>  <td>   -0.8140</td> <td>    1.418</td> <td>   -0.574</td> <td> 0.566</td> <td>   -3.593</td> <td>    1.965</td>\n",
       "</tr>\n",
       "<tr>\n",
       "  <th>ma.L2</th>  <td>   -0.0592</td> <td>    2.178</td> <td>   -0.027</td> <td> 0.978</td> <td>   -4.327</td> <td>    4.209</td>\n",
       "</tr>\n",
       "<tr>\n",
       "  <th>ma.L3</th>  <td>    0.6249</td> <td>    1.590</td> <td>    0.393</td> <td> 0.694</td> <td>   -2.492</td> <td>    3.742</td>\n",
       "</tr>\n",
       "<tr>\n",
       "  <th>ma.L4</th>  <td>   -0.5798</td> <td>    0.772</td> <td>   -0.751</td> <td> 0.453</td> <td>   -2.093</td> <td>    0.933</td>\n",
       "</tr>\n",
       "<tr>\n",
       "  <th>sigma2</th> <td> 2.618e+11</td> <td> 9.64e-11</td> <td> 2.72e+21</td> <td> 0.000</td> <td> 2.62e+11</td> <td> 2.62e+11</td>\n",
       "</tr>\n",
       "</table>\n",
       "<table class=\"simpletable\">\n",
       "<tr>\n",
       "  <th>Ljung-Box (L1) (Q):</th>     <td>0.14</td>  <th>  Jarque-Bera (JB):  </th> <td>22.72</td>\n",
       "</tr>\n",
       "<tr>\n",
       "  <th>Prob(Q):</th>                <td>0.70</td>  <th>  Prob(JB):          </th> <td>0.00</td> \n",
       "</tr>\n",
       "<tr>\n",
       "  <th>Heteroskedasticity (H):</th> <td>32.55</td> <th>  Skew:              </th> <td>1.11</td> \n",
       "</tr>\n",
       "<tr>\n",
       "  <th>Prob(H) (two-sided):</th>    <td>0.00</td>  <th>  Kurtosis:          </th> <td>5.19</td> \n",
       "</tr>\n",
       "</table><br/><br/>Warnings:<br/>[1] Covariance matrix calculated using the outer product of gradients (complex-step).<br/>[2] Covariance matrix is singular or near-singular, with condition number 1.01e+37. Standard errors may be unstable."
      ],
      "text/plain": [
       "<class 'statsmodels.iolib.summary.Summary'>\n",
       "\"\"\"\n",
       "                                 SARIMAX Results                                 \n",
       "=================================================================================\n",
       "Dep. Variable:     CO2 emission per year   No. Observations:                   57\n",
       "Model:                    ARIMA(3, 1, 4)   Log Likelihood                -808.870\n",
       "Date:                   Sat, 25 Feb 2023   AIC                           1633.740\n",
       "Time:                           03:00:35   BIC                           1649.943\n",
       "Sample:                       01-01-1950   HQIC                          1640.022\n",
       "                            - 01-01-2006                                         \n",
       "Covariance Type:                     opg                                         \n",
       "==============================================================================\n",
       "                 coef    std err          z      P>|z|      [0.025      0.975]\n",
       "------------------------------------------------------------------------------\n",
       "ar.L1          0.5756      1.291      0.446      0.656      -1.955       3.106\n",
       "ar.L2          0.8607      1.540      0.559      0.576      -2.157       3.878\n",
       "ar.L3         -0.4401      0.490     -0.898      0.369      -1.401       0.521\n",
       "ma.L1         -0.8140      1.418     -0.574      0.566      -3.593       1.965\n",
       "ma.L2         -0.0592      2.178     -0.027      0.978      -4.327       4.209\n",
       "ma.L3          0.6249      1.590      0.393      0.694      -2.492       3.742\n",
       "ma.L4         -0.5798      0.772     -0.751      0.453      -2.093       0.933\n",
       "sigma2      2.618e+11   9.64e-11   2.72e+21      0.000    2.62e+11    2.62e+11\n",
       "===================================================================================\n",
       "Ljung-Box (L1) (Q):                   0.14   Jarque-Bera (JB):                22.72\n",
       "Prob(Q):                              0.70   Prob(JB):                         0.00\n",
       "Heteroskedasticity (H):              32.55   Skew:                             1.11\n",
       "Prob(H) (two-sided):                  0.00   Kurtosis:                         5.19\n",
       "===================================================================================\n",
       "\n",
       "Warnings:\n",
       "[1] Covariance matrix calculated using the outer product of gradients (complex-step).\n",
       "[2] Covariance matrix is singular or near-singular, with condition number 1.01e+37. Standard errors may be unstable.\n",
       "\"\"\""
      ]
     },
     "execution_count": 32,
     "metadata": {},
     "output_type": "execute_result"
    }
   ],
   "source": [
    "final_arima = ARIMA(y_train,order = (3,1,4))\n",
    "final_arima = final_arima.fit()\n",
    "final_arima.summary()"
   ]
  },
  {
   "cell_type": "code",
   "execution_count": 33,
   "id": "bf40a075",
   "metadata": {},
   "outputs": [
    {
     "data": {
      "text/plain": [
       "Year\n",
       "2002-01-01    1.615107e+07\n",
       "2003-01-01    1.703367e+07\n",
       "2004-01-01    1.782984e+07\n",
       "2005-01-01    1.903346e+07\n",
       "2006-01-01    2.127896e+07\n",
       "dtype: float64"
      ]
     },
     "execution_count": 33,
     "metadata": {},
     "output_type": "execute_result"
    }
   ],
   "source": [
    "final_arima.fittedvalues.tail()"
   ]
  },
  {
   "cell_type": "code",
   "execution_count": 34,
   "id": "072a2308",
   "metadata": {},
   "outputs": [
    {
     "data": {
      "text/html": [
       "<table class=\"simpletable\">\n",
       "<caption>SARIMAX Results</caption>\n",
       "<tr>\n",
       "  <th>Dep. Variable:</th>   <td>CO2 emission per year</td> <th>  No. Observations:  </th>    <td>71</td>    \n",
       "</tr>\n",
       "<tr>\n",
       "  <th>Model:</th>              <td>ARIMA(3, 1, 4)</td>     <th>  Log Likelihood     </th> <td>-1033.063</td>\n",
       "</tr>\n",
       "<tr>\n",
       "  <th>Date:</th>              <td>Sat, 25 Feb 2023</td>    <th>  AIC                </th> <td>2082.126</td> \n",
       "</tr>\n",
       "<tr>\n",
       "  <th>Time:</th>                  <td>03:00:35</td>        <th>  BIC                </th> <td>2100.114</td> \n",
       "</tr>\n",
       "<tr>\n",
       "  <th>Sample:</th>               <td>01-01-1950</td>       <th>  HQIC               </th> <td>2089.271</td> \n",
       "</tr>\n",
       "<tr>\n",
       "  <th></th>                     <td>- 01-01-2020</td>      <th>                     </th>     <td> </td>    \n",
       "</tr>\n",
       "<tr>\n",
       "  <th>Covariance Type:</th>          <td>opg</td>          <th>                     </th>     <td> </td>    \n",
       "</tr>\n",
       "</table>\n",
       "<table class=\"simpletable\">\n",
       "<tr>\n",
       "     <td></td>       <th>coef</th>     <th>std err</th>      <th>z</th>      <th>P>|z|</th>  <th>[0.025</th>    <th>0.975]</th>  \n",
       "</tr>\n",
       "<tr>\n",
       "  <th>ar.L1</th>  <td>    0.0421</td> <td>    0.720</td> <td>    0.059</td> <td> 0.953</td> <td>   -1.369</td> <td>    1.453</td>\n",
       "</tr>\n",
       "<tr>\n",
       "  <th>ar.L2</th>  <td>    0.6028</td> <td>    0.630</td> <td>    0.958</td> <td> 0.338</td> <td>   -0.631</td> <td>    1.837</td>\n",
       "</tr>\n",
       "<tr>\n",
       "  <th>ar.L3</th>  <td>    0.3271</td> <td>    0.403</td> <td>    0.812</td> <td> 0.417</td> <td>   -0.462</td> <td>    1.117</td>\n",
       "</tr>\n",
       "<tr>\n",
       "  <th>ma.L1</th>  <td>   -0.1367</td> <td>    0.688</td> <td>   -0.199</td> <td> 0.842</td> <td>   -1.484</td> <td>    1.211</td>\n",
       "</tr>\n",
       "<tr>\n",
       "  <th>ma.L2</th>  <td>   -0.1519</td> <td>    0.604</td> <td>   -0.252</td> <td> 0.801</td> <td>   -1.335</td> <td>    1.031</td>\n",
       "</tr>\n",
       "<tr>\n",
       "  <th>ma.L3</th>  <td>   -0.2296</td> <td>    0.567</td> <td>   -0.405</td> <td> 0.686</td> <td>   -1.342</td> <td>    0.882</td>\n",
       "</tr>\n",
       "<tr>\n",
       "  <th>ma.L4</th>  <td>   -0.2731</td> <td>    0.365</td> <td>   -0.747</td> <td> 0.455</td> <td>   -0.989</td> <td>    0.443</td>\n",
       "</tr>\n",
       "<tr>\n",
       "  <th>sigma2</th> <td> 4.488e+11</td> <td> 4.85e-12</td> <td> 9.26e+22</td> <td> 0.000</td> <td> 4.49e+11</td> <td> 4.49e+11</td>\n",
       "</tr>\n",
       "</table>\n",
       "<table class=\"simpletable\">\n",
       "<tr>\n",
       "  <th>Ljung-Box (L1) (Q):</th>     <td>0.06</td>  <th>  Jarque-Bera (JB):  </th> <td>36.80</td>\n",
       "</tr>\n",
       "<tr>\n",
       "  <th>Prob(Q):</th>                <td>0.80</td>  <th>  Prob(JB):          </th> <td>0.00</td> \n",
       "</tr>\n",
       "<tr>\n",
       "  <th>Heteroskedasticity (H):</th> <td>35.77</td> <th>  Skew:              </th> <td>0.66</td> \n",
       "</tr>\n",
       "<tr>\n",
       "  <th>Prob(H) (two-sided):</th>    <td>0.00</td>  <th>  Kurtosis:          </th> <td>6.30</td> \n",
       "</tr>\n",
       "</table><br/><br/>Warnings:<br/>[1] Covariance matrix calculated using the outer product of gradients (complex-step).<br/>[2] Covariance matrix is singular or near-singular, with condition number 1.76e+39. Standard errors may be unstable."
      ],
      "text/plain": [
       "<class 'statsmodels.iolib.summary.Summary'>\n",
       "\"\"\"\n",
       "                                 SARIMAX Results                                 \n",
       "=================================================================================\n",
       "Dep. Variable:     CO2 emission per year   No. Observations:                   71\n",
       "Model:                    ARIMA(3, 1, 4)   Log Likelihood               -1033.063\n",
       "Date:                   Sat, 25 Feb 2023   AIC                           2082.126\n",
       "Time:                           03:00:35   BIC                           2100.114\n",
       "Sample:                       01-01-1950   HQIC                          2089.271\n",
       "                            - 01-01-2020                                         \n",
       "Covariance Type:                     opg                                         \n",
       "==============================================================================\n",
       "                 coef    std err          z      P>|z|      [0.025      0.975]\n",
       "------------------------------------------------------------------------------\n",
       "ar.L1          0.0421      0.720      0.059      0.953      -1.369       1.453\n",
       "ar.L2          0.6028      0.630      0.958      0.338      -0.631       1.837\n",
       "ar.L3          0.3271      0.403      0.812      0.417      -0.462       1.117\n",
       "ma.L1         -0.1367      0.688     -0.199      0.842      -1.484       1.211\n",
       "ma.L2         -0.1519      0.604     -0.252      0.801      -1.335       1.031\n",
       "ma.L3         -0.2296      0.567     -0.405      0.686      -1.342       0.882\n",
       "ma.L4         -0.2731      0.365     -0.747      0.455      -0.989       0.443\n",
       "sigma2      4.488e+11   4.85e-12   9.26e+22      0.000    4.49e+11    4.49e+11\n",
       "===================================================================================\n",
       "Ljung-Box (L1) (Q):                   0.06   Jarque-Bera (JB):                36.80\n",
       "Prob(Q):                              0.80   Prob(JB):                         0.00\n",
       "Heteroskedasticity (H):              35.77   Skew:                             0.66\n",
       "Prob(H) (two-sided):                  0.00   Kurtosis:                         6.30\n",
       "===================================================================================\n",
       "\n",
       "Warnings:\n",
       "[1] Covariance matrix calculated using the outer product of gradients (complex-step).\n",
       "[2] Covariance matrix is singular or near-singular, with condition number 1.76e+39. Standard errors may be unstable.\n",
       "\"\"\""
      ]
     },
     "execution_count": 34,
     "metadata": {},
     "output_type": "execute_result"
    }
   ],
   "source": [
    "final_arima = ARIMA(df,order = (3,1,4))        \n",
    "final_arima = final_arima.fit()\n",
    "final_arima.summary()"
   ]
  },
  {
   "cell_type": "code",
   "execution_count": 38,
   "id": "dcfa1745",
   "metadata": {},
   "outputs": [
    {
     "data": {
      "image/png": "[encoded data removed]",
      "text/plain": [
       "<Figure size 1200x500 with 1 Axes>"
      ]
     },
     "metadata": {},
     "output_type": "display_data"
    }
   ],
   "source": [
    "# Plot\n",
    "plt.figure(figsize=(12,5), dpi=100)\n",
    "plt.plot(y_train, label='training')\n",
    "plt.plot(y_test, label='actual')\n",
    "#plt.plot(pred_arima, label='forecast')\n",
    "#plt.fill_between(lower_series.index, lower_series, upper_series, \n",
    "                 #color='k', alpha=.15)\n",
    "plt.title('Forecast vs Actuals')\n",
    "plt.legend(loc='upper left', fontsize=8)\n",
    "plt.show()"
   ]
  },
  {
   "cell_type": "code",
   "execution_count": 39,
   "id": "baf43b6d",
   "metadata": {},
   "outputs": [
    {
     "data": {
      "image/png": "[encoded data removed]",
      "text/plain": [
       "<Figure size 1200x500 with 1 Axes>"
      ]
     },
     "metadata": {},
     "output_type": "display_data"
    }
   ],
   "source": [
    "plt.figure(figsize=(12,5), dpi=100)\n",
    "plt.plot(df, label='original')\n",
    "#plt.plot(test, label='actual')\n",
    "plt.plot(final_arima.fittedvalues, label='forecast')\n",
    "plt.title('Forecast')\n",
    "plt.legend(loc='upper left', fontsize=8)\n",
    "plt.show()"
   ]
  },
  {
   "cell_type": "markdown",
   "id": "c3a1beb7",
   "metadata": {},
   "source": [
    "### creating dataframe for future forecasting"
   ]
  },
  {
   "cell_type": "code",
   "execution_count": 40,
   "id": "a0e0259f",
   "metadata": {},
   "outputs": [
    {
     "data": {
      "text/html": [
       "<div>\n",
       "<style scoped>\n",
       "    .dataframe tbody tr th:only-of-type {\n",
       "        vertical-align: middle;\n",
       "    }\n",
       "\n",
       "    .dataframe tbody tr th {\n",
       "        vertical-align: top;\n",
       "    }\n",
       "\n",
       "    .dataframe thead th {\n",
       "        text-align: right;\n",
       "    }\n",
       "</style>\n",
       "<table border=\"1\" class=\"dataframe\">\n",
       "  <thead>\n",
       "    <tr style=\"text-align: right;\">\n",
       "      <th></th>\n",
       "      <th>CO2 emission per year</th>\n",
       "    </tr>\n",
       "  </thead>\n",
       "  <tbody>\n",
       "    <tr>\n",
       "      <th>2021-01-01</th>\n",
       "      <td>NaN</td>\n",
       "    </tr>\n",
       "    <tr>\n",
       "      <th>2022-01-01</th>\n",
       "      <td>NaN</td>\n",
       "    </tr>\n",
       "    <tr>\n",
       "      <th>2023-01-01</th>\n",
       "      <td>NaN</td>\n",
       "    </tr>\n",
       "    <tr>\n",
       "      <th>2024-01-01</th>\n",
       "      <td>NaN</td>\n",
       "    </tr>\n",
       "    <tr>\n",
       "      <th>2025-01-01</th>\n",
       "      <td>NaN</td>\n",
       "    </tr>\n",
       "  </tbody>\n",
       "</table>\n",
       "</div>"
      ],
      "text/plain": [
       "           CO2 emission per year\n",
       "2021-01-01                   NaN\n",
       "2022-01-01                   NaN\n",
       "2023-01-01                   NaN\n",
       "2024-01-01                   NaN\n",
       "2025-01-01                   NaN"
      ]
     },
     "execution_count": 40,
     "metadata": {},
     "output_type": "execute_result"
    }
   ],
   "source": [
    "#date = pd.Timestamp(dataset.index[-1])\n",
    "future_dates=[df.index[-1] + DateOffset(years=x) for x in range(0,6)]\n",
    "future_df=pd.DataFrame(index=future_dates[1:],columns=df.columns)\n",
    "future_df.tail()"
   ]
  },
  {
   "cell_type": "code",
   "execution_count": 41,
   "id": "98e9984c",
   "metadata": {},
   "outputs": [
    {
     "data": {
      "text/html": [
       "<div>\n",
       "<style scoped>\n",
       "    .dataframe tbody tr th:only-of-type {\n",
       "        vertical-align: middle;\n",
       "    }\n",
       "\n",
       "    .dataframe tbody tr th {\n",
       "        vertical-align: top;\n",
       "    }\n",
       "\n",
       "    .dataframe thead th {\n",
       "        text-align: right;\n",
       "    }\n",
       "</style>\n",
       "<table border=\"1\" class=\"dataframe\">\n",
       "  <thead>\n",
       "    <tr style=\"text-align: right;\">\n",
       "      <th></th>\n",
       "      <th>CO2 emission per year</th>\n",
       "    </tr>\n",
       "    <tr>\n",
       "      <th>Year</th>\n",
       "      <th></th>\n",
       "    </tr>\n",
       "  </thead>\n",
       "  <tbody>\n",
       "    <tr>\n",
       "      <th>2016-01-01</th>\n",
       "      <td>24345622.0</td>\n",
       "    </tr>\n",
       "    <tr>\n",
       "      <th>2017-01-01</th>\n",
       "      <td>25561278.0</td>\n",
       "    </tr>\n",
       "    <tr>\n",
       "      <th>2018-01-01</th>\n",
       "      <td>25259630.0</td>\n",
       "    </tr>\n",
       "    <tr>\n",
       "      <th>2019-01-01</th>\n",
       "      <td>25744983.0</td>\n",
       "    </tr>\n",
       "    <tr>\n",
       "      <th>2020-01-01</th>\n",
       "      <td>25487430.0</td>\n",
       "    </tr>\n",
       "  </tbody>\n",
       "</table>\n",
       "</div>"
      ],
      "text/plain": [
       "            CO2 emission per year\n",
       "Year                             \n",
       "2016-01-01             24345622.0\n",
       "2017-01-01             25561278.0\n",
       "2018-01-01             25259630.0\n",
       "2019-01-01             25744983.0\n",
       "2020-01-01             25487430.0"
      ]
     },
     "execution_count": 41,
     "metadata": {},
     "output_type": "execute_result"
    }
   ],
   "source": [
    "df.tail()"
   ]
  },
  {
   "cell_type": "code",
   "execution_count": 42,
   "id": "6fdf0d29",
   "metadata": {},
   "outputs": [
    {
     "data": {
      "text/plain": [
       "5"
      ]
     },
     "execution_count": 42,
     "metadata": {},
     "output_type": "execute_result"
    }
   ],
   "source": [
    "len(future_df)"
   ]
  },
  {
   "cell_type": "markdown",
   "id": "70810b27",
   "metadata": {},
   "source": [
    "### Forecasting for next 5 years using Final ARIMA model"
   ]
  },
  {
   "cell_type": "code",
   "execution_count": 43,
   "id": "28665ed4",
   "metadata": {},
   "outputs": [],
   "source": [
    "future_df[\"CO2 emission per year\"] = final_arima.predict(start = 71, end = 76, dynamic= True) "
   ]
  },
  {
   "cell_type": "code",
   "execution_count": 44,
   "id": "0a8213ba",
   "metadata": {},
   "outputs": [
    {
     "data": {
      "text/html": [
       "<div>\n",
       "<style scoped>\n",
       "    .dataframe tbody tr th:only-of-type {\n",
       "        vertical-align: middle;\n",
       "    }\n",
       "\n",
       "    .dataframe tbody tr th {\n",
       "        vertical-align: top;\n",
       "    }\n",
       "\n",
       "    .dataframe thead th {\n",
       "        text-align: right;\n",
       "    }\n",
       "</style>\n",
       "<table border=\"1\" class=\"dataframe\">\n",
       "  <thead>\n",
       "    <tr style=\"text-align: right;\">\n",
       "      <th></th>\n",
       "      <th>CO2 emission per year</th>\n",
       "    </tr>\n",
       "  </thead>\n",
       "  <tbody>\n",
       "    <tr>\n",
       "      <th>2021-01-01</th>\n",
       "      <td>2.563101e+07</td>\n",
       "    </tr>\n",
       "    <tr>\n",
       "      <th>2022-01-01</th>\n",
       "      <td>2.577108e+07</td>\n",
       "    </tr>\n",
       "    <tr>\n",
       "      <th>2023-01-01</th>\n",
       "      <td>2.606332e+07</td>\n",
       "    </tr>\n",
       "    <tr>\n",
       "      <th>2024-01-01</th>\n",
       "      <td>2.644478e+07</td>\n",
       "    </tr>\n",
       "    <tr>\n",
       "      <th>2025-01-01</th>\n",
       "      <td>2.668281e+07</td>\n",
       "    </tr>\n",
       "  </tbody>\n",
       "</table>\n",
       "</div>"
      ],
      "text/plain": [
       "            CO2 emission per year\n",
       "2021-01-01           2.563101e+07\n",
       "2022-01-01           2.577108e+07\n",
       "2023-01-01           2.606332e+07\n",
       "2024-01-01           2.644478e+07\n",
       "2025-01-01           2.668281e+07"
      ]
     },
     "execution_count": 44,
     "metadata": {},
     "output_type": "execute_result"
    }
   ],
   "source": [
    "future_df"
   ]
  },
  {
   "cell_type": "code",
   "execution_count": 45,
   "id": "bffb96ba",
   "metadata": {},
   "outputs": [
    {
     "data": {
      "text/html": [
       "<div>\n",
       "<style scoped>\n",
       "    .dataframe tbody tr th:only-of-type {\n",
       "        vertical-align: middle;\n",
       "    }\n",
       "\n",
       "    .dataframe tbody tr th {\n",
       "        vertical-align: top;\n",
       "    }\n",
       "\n",
       "    .dataframe thead th {\n",
       "        text-align: right;\n",
       "    }\n",
       "</style>\n",
       "<table border=\"1\" class=\"dataframe\">\n",
       "  <thead>\n",
       "    <tr style=\"text-align: right;\">\n",
       "      <th></th>\n",
       "      <th>CO2 emission per year</th>\n",
       "    </tr>\n",
       "    <tr>\n",
       "      <th>Year</th>\n",
       "      <th></th>\n",
       "    </tr>\n",
       "  </thead>\n",
       "  <tbody>\n",
       "    <tr>\n",
       "      <th>2016-01-01</th>\n",
       "      <td>24345622.0</td>\n",
       "    </tr>\n",
       "    <tr>\n",
       "      <th>2017-01-01</th>\n",
       "      <td>25561278.0</td>\n",
       "    </tr>\n",
       "    <tr>\n",
       "      <th>2018-01-01</th>\n",
       "      <td>25259630.0</td>\n",
       "    </tr>\n",
       "    <tr>\n",
       "      <th>2019-01-01</th>\n",
       "      <td>25744983.0</td>\n",
       "    </tr>\n",
       "    <tr>\n",
       "      <th>2020-01-01</th>\n",
       "      <td>25487430.0</td>\n",
       "    </tr>\n",
       "  </tbody>\n",
       "</table>\n",
       "</div>"
      ],
      "text/plain": [
       "            CO2 emission per year\n",
       "Year                             \n",
       "2016-01-01             24345622.0\n",
       "2017-01-01             25561278.0\n",
       "2018-01-01             25259630.0\n",
       "2019-01-01             25744983.0\n",
       "2020-01-01             25487430.0"
      ]
     },
     "execution_count": 45,
     "metadata": {},
     "output_type": "execute_result"
    }
   ],
   "source": [
    "df.tail()"
   ]
  },
  {
   "cell_type": "code",
   "execution_count": 46,
   "id": "92fc0ecb",
   "metadata": {},
   "outputs": [
    {
     "data": {
      "text/html": [
       "<div>\n",
       "<style scoped>\n",
       "    .dataframe tbody tr th:only-of-type {\n",
       "        vertical-align: middle;\n",
       "    }\n",
       "\n",
       "    .dataframe tbody tr th {\n",
       "        vertical-align: top;\n",
       "    }\n",
       "\n",
       "    .dataframe thead th {\n",
       "        text-align: right;\n",
       "    }\n",
       "</style>\n",
       "<table border=\"1\" class=\"dataframe\">\n",
       "  <thead>\n",
       "    <tr style=\"text-align: right;\">\n",
       "      <th></th>\n",
       "      <th>CO2 emission per year</th>\n",
       "    </tr>\n",
       "  </thead>\n",
       "  <tbody>\n",
       "    <tr>\n",
       "      <th>2021-01-01</th>\n",
       "      <td>2.563101e+07</td>\n",
       "    </tr>\n",
       "    <tr>\n",
       "      <th>2022-01-01</th>\n",
       "      <td>2.577108e+07</td>\n",
       "    </tr>\n",
       "    <tr>\n",
       "      <th>2023-01-01</th>\n",
       "      <td>2.606332e+07</td>\n",
       "    </tr>\n",
       "    <tr>\n",
       "      <th>2024-01-01</th>\n",
       "      <td>2.644478e+07</td>\n",
       "    </tr>\n",
       "    <tr>\n",
       "      <th>2025-01-01</th>\n",
       "      <td>2.668281e+07</td>\n",
       "    </tr>\n",
       "  </tbody>\n",
       "</table>\n",
       "</div>"
      ],
      "text/plain": [
       "            CO2 emission per year\n",
       "2021-01-01           2.563101e+07\n",
       "2022-01-01           2.577108e+07\n",
       "2023-01-01           2.606332e+07\n",
       "2024-01-01           2.644478e+07\n",
       "2025-01-01           2.668281e+07"
      ]
     },
     "execution_count": 46,
     "metadata": {},
     "output_type": "execute_result"
    }
   ],
   "source": [
    "future_df.tail()"
   ]
  },
  {
   "cell_type": "code",
   "execution_count": 47,
   "id": "cb5ab5b7",
   "metadata": {},
   "outputs": [
    {
     "data": {
      "image/png": "[encoded data removed]",
      "text/plain": [
       "<Figure size 1200x500 with 1 Axes>"
      ]
     },
     "metadata": {},
     "output_type": "display_data"
    }
   ],
   "source": [
    "plt.figure(figsize=(12,5), dpi=100)\n",
    "plt.plot(df, label='original')\n",
    "#plt.plot(test, label='actual')\n",
    "plt.plot(future_df[\"CO2 emission per year\"], label='forecast')\n",
    "plt.title('Forecast')\n",
    "plt.legend(loc='upper left', fontsize=8)\n",
    "plt.show()"
   ]
  },
  {
   "cell_type": "markdown",
   "id": "c1b71a59",
   "metadata": {},
   "source": [
    "### Forecast for 10 years"
   ]
  },
  {
   "cell_type": "code",
   "execution_count": 48,
   "id": "ca3e0c48",
   "metadata": {},
   "outputs": [
    {
     "data": {
      "text/html": [
       "<div>\n",
       "<style scoped>\n",
       "    .dataframe tbody tr th:only-of-type {\n",
       "        vertical-align: middle;\n",
       "    }\n",
       "\n",
       "    .dataframe tbody tr th {\n",
       "        vertical-align: top;\n",
       "    }\n",
       "\n",
       "    .dataframe thead th {\n",
       "        text-align: right;\n",
       "    }\n",
       "</style>\n",
       "<table border=\"1\" class=\"dataframe\">\n",
       "  <thead>\n",
       "    <tr style=\"text-align: right;\">\n",
       "      <th></th>\n",
       "      <th>CO2 emission per year</th>\n",
       "    </tr>\n",
       "  </thead>\n",
       "  <tbody>\n",
       "    <tr>\n",
       "      <th>2021-01-01</th>\n",
       "      <td>NaN</td>\n",
       "    </tr>\n",
       "    <tr>\n",
       "      <th>2022-01-01</th>\n",
       "      <td>NaN</td>\n",
       "    </tr>\n",
       "    <tr>\n",
       "      <th>2023-01-01</th>\n",
       "      <td>NaN</td>\n",
       "    </tr>\n",
       "    <tr>\n",
       "      <th>2024-01-01</th>\n",
       "      <td>NaN</td>\n",
       "    </tr>\n",
       "    <tr>\n",
       "      <th>2025-01-01</th>\n",
       "      <td>NaN</td>\n",
       "    </tr>\n",
       "    <tr>\n",
       "      <th>2026-01-01</th>\n",
       "      <td>NaN</td>\n",
       "    </tr>\n",
       "    <tr>\n",
       "      <th>2027-01-01</th>\n",
       "      <td>NaN</td>\n",
       "    </tr>\n",
       "    <tr>\n",
       "      <th>2028-01-01</th>\n",
       "      <td>NaN</td>\n",
       "    </tr>\n",
       "    <tr>\n",
       "      <th>2029-01-01</th>\n",
       "      <td>NaN</td>\n",
       "    </tr>\n",
       "    <tr>\n",
       "      <th>2030-01-01</th>\n",
       "      <td>NaN</td>\n",
       "    </tr>\n",
       "  </tbody>\n",
       "</table>\n",
       "</div>"
      ],
      "text/plain": [
       "           CO2 emission per year\n",
       "2021-01-01                   NaN\n",
       "2022-01-01                   NaN\n",
       "2023-01-01                   NaN\n",
       "2024-01-01                   NaN\n",
       "2025-01-01                   NaN\n",
       "2026-01-01                   NaN\n",
       "2027-01-01                   NaN\n",
       "2028-01-01                   NaN\n",
       "2029-01-01                   NaN\n",
       "2030-01-01                   NaN"
      ]
     },
     "execution_count": 48,
     "metadata": {},
     "output_type": "execute_result"
    }
   ],
   "source": [
    "future_dates_10=[df.index[-1]+ DateOffset(years=x)for x in range(0,11)]\n",
    "future_df_10=pd.DataFrame(index=future_dates_10[1:],columns=df.columns)\n",
    "future_df_10\n"
   ]
  },
  {
   "cell_type": "code",
   "execution_count": 49,
   "id": "d378e584",
   "metadata": {},
   "outputs": [],
   "source": [
    "future_df_10['CO2 emission per year'] = final_arima.predict(start = 71, end = 81, dynamic= True) "
   ]
  },
  {
   "cell_type": "code",
   "execution_count": 50,
   "id": "6c4dada0",
   "metadata": {},
   "outputs": [
    {
     "data": {
      "text/html": [
       "<div>\n",
       "<style scoped>\n",
       "    .dataframe tbody tr th:only-of-type {\n",
       "        vertical-align: middle;\n",
       "    }\n",
       "\n",
       "    .dataframe tbody tr th {\n",
       "        vertical-align: top;\n",
       "    }\n",
       "\n",
       "    .dataframe thead th {\n",
       "        text-align: right;\n",
       "    }\n",
       "</style>\n",
       "<table border=\"1\" class=\"dataframe\">\n",
       "  <thead>\n",
       "    <tr style=\"text-align: right;\">\n",
       "      <th></th>\n",
       "      <th>CO2 emission per year</th>\n",
       "    </tr>\n",
       "  </thead>\n",
       "  <tbody>\n",
       "    <tr>\n",
       "      <th>2021-01-01</th>\n",
       "      <td>2.563101e+07</td>\n",
       "    </tr>\n",
       "    <tr>\n",
       "      <th>2022-01-01</th>\n",
       "      <td>2.577108e+07</td>\n",
       "    </tr>\n",
       "    <tr>\n",
       "      <th>2023-01-01</th>\n",
       "      <td>2.606332e+07</td>\n",
       "    </tr>\n",
       "    <tr>\n",
       "      <th>2024-01-01</th>\n",
       "      <td>2.644478e+07</td>\n",
       "    </tr>\n",
       "    <tr>\n",
       "      <th>2025-01-01</th>\n",
       "      <td>2.668281e+07</td>\n",
       "    </tr>\n",
       "    <tr>\n",
       "      <th>2026-01-01</th>\n",
       "      <td>2.701835e+07</td>\n",
       "    </tr>\n",
       "    <tr>\n",
       "      <th>2027-01-01</th>\n",
       "      <td>2.730073e+07</td>\n",
       "    </tr>\n",
       "    <tr>\n",
       "      <th>2028-01-01</th>\n",
       "      <td>2.759274e+07</td>\n",
       "    </tr>\n",
       "    <tr>\n",
       "      <th>2029-01-01</th>\n",
       "      <td>2.788500e+07</td>\n",
       "    </tr>\n",
       "    <tr>\n",
       "      <th>2030-01-01</th>\n",
       "      <td>2.816568e+07</td>\n",
       "    </tr>\n",
       "  </tbody>\n",
       "</table>\n",
       "</div>"
      ],
      "text/plain": [
       "            CO2 emission per year\n",
       "2021-01-01           2.563101e+07\n",
       "2022-01-01           2.577108e+07\n",
       "2023-01-01           2.606332e+07\n",
       "2024-01-01           2.644478e+07\n",
       "2025-01-01           2.668281e+07\n",
       "2026-01-01           2.701835e+07\n",
       "2027-01-01           2.730073e+07\n",
       "2028-01-01           2.759274e+07\n",
       "2029-01-01           2.788500e+07\n",
       "2030-01-01           2.816568e+07"
      ]
     },
     "execution_count": 50,
     "metadata": {},
     "output_type": "execute_result"
    }
   ],
   "source": [
    "future_df_10"
   ]
  },
  {
   "cell_type": "code",
   "execution_count": 51,
   "id": "78b7b366",
   "metadata": {},
   "outputs": [
    {
     "data": {
      "image/png": "[encoded data removed]",
      "text/plain": [
       "<Figure size 1200x500 with 1 Axes>"
      ]
     },
     "metadata": {},
     "output_type": "display_data"
    }
   ],
   "source": [
    "plt.figure(figsize=(12,5), dpi=100)\n",
    "plt.plot(df, label='original')\n",
    "#plt.plot(test, label='actual')\n",
    "plt.plot(future_df_10['CO2 emission per year'], label='forecast')\n",
    "plt.title('Forecast')\n",
    "plt.legend(loc='upper left', fontsize=8)\n",
    "plt.show()"
   ]
  },
  {
   "cell_type": "code",
   "execution_count": 52,
   "id": "fca7f724",
   "metadata": {},
   "outputs": [],
   "source": [
    "# Exporting to csv file\n",
    "future_df_10.to_csv(r'forecast_data_10years.csv',index=True)"
   ]
  },
  {
   "cell_type": "code",
   "execution_count": 53,
   "id": "af570d44",
   "metadata": {},
   "outputs": [],
   "source": [
    "pickle.dump(final_arima, open('Forecast_arima.pkl','wb'))"
   ]
  }
 ],
 "metadata": {
  "kernelspec": {
   "display_name": "Python 3",
   "language": "python",
   "name": "python3"
  },
  "language_info": {
   "codemirror_mode": {
    "name": "ipython",
    "version": 3
   },
   "file_extension": ".py",
   "mimetype": "text/x-python",
   "name": "python",
   "nbconvert_exporter": "python",
   "pygments_lexer": "ipython3",
   "version": "3.11.2"
  },
  "vscode": {
   "interpreter": {
    "hash": "1565751dd82436ace5470828b514c3ca62062ec8e86e496e3e43c2d3a79bb2d2"
   }
  }
 },
 "nbformat": 4,
 "nbformat_minor": 5
}
